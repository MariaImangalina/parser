{
 "cells": [
  {
   "cell_type": "code",
   "execution_count": 2,
   "metadata": {},
   "outputs": [],
   "source": [
    "import csv\n",
    "import os\n",
    "import pandas as pd"
   ]
  },
  {
   "cell_type": "code",
   "execution_count": null,
   "metadata": {},
   "outputs": [],
   "source": []
  },
  {
   "cell_type": "code",
   "execution_count": 28,
   "metadata": {},
   "outputs": [],
   "source": [
    "ads_type = 'rent'\n",
    "premises_type = 'build'"
   ]
  },
  {
   "cell_type": "code",
   "execution_count": 30,
   "metadata": {},
   "outputs": [],
   "source": [
    "file = pd.read_csv(f'5ka_KZ_2/{premises_type}_{ads_type}.csv', sep=';')"
   ]
  },
  {
   "cell_type": "code",
   "execution_count": 44,
   "metadata": {},
   "outputs": [
    {
     "data": {
      "text/html": [
       "<div>\n",
       "<style scoped>\n",
       "    .dataframe tbody tr th:only-of-type {\n",
       "        vertical-align: middle;\n",
       "    }\n",
       "\n",
       "    .dataframe tbody tr th {\n",
       "        vertical-align: top;\n",
       "    }\n",
       "\n",
       "    .dataframe thead th {\n",
       "        text-align: right;\n",
       "    }\n",
       "</style>\n",
       "<table border=\"1\" class=\"dataframe\">\n",
       "  <thead>\n",
       "    <tr style=\"text-align: right;\">\n",
       "      <th></th>\n",
       "      <th>Name</th>\n",
       "      <th>Address</th>\n",
       "      <th>KZT_price</th>\n",
       "      <th>City</th>\n",
       "      <th>Url</th>\n",
       "      <th>ads_type</th>\n",
       "      <th>premises_type</th>\n",
       "      <th>area_m2</th>\n",
       "      <th>KZT_price_norm</th>\n",
       "      <th>price_per</th>\n",
       "      <th>URL</th>\n",
       "    </tr>\n",
       "  </thead>\n",
       "  <tbody>\n",
       "    <tr>\n",
       "      <td>0</td>\n",
       "      <td>Здание, площадью 2534 м²</td>\n",
       "      <td>Капчагайская трасса</td>\n",
       "      <td>4 750 000〒за всё</td>\n",
       "      <td>Капчагай</td>\n",
       "      <td>/a/show/660685171</td>\n",
       "      <td>rent</td>\n",
       "      <td>build</td>\n",
       "      <td>2534.0</td>\n",
       "      <td>4750000.0</td>\n",
       "      <td>за всё</td>\n",
       "      <td>https://krisha.kz/a/show/660685171</td>\n",
       "    </tr>\n",
       "    <tr>\n",
       "      <td>1</td>\n",
       "      <td>Здание, площадью 700 м²</td>\n",
       "      <td>Турксибский р-н, Бухтарминская — Кульджинскай ...</td>\n",
       "      <td>2 500〒за м²</td>\n",
       "      <td>Алматы</td>\n",
       "      <td>/a/show/56894649</td>\n",
       "      <td>rent</td>\n",
       "      <td>build</td>\n",
       "      <td>700.0</td>\n",
       "      <td>1750000.0</td>\n",
       "      <td>за м²</td>\n",
       "      <td>https://krisha.kz/a/show/56894649</td>\n",
       "    </tr>\n",
       "    <tr>\n",
       "      <td>2</td>\n",
       "      <td>Здание, площадью 400 м²</td>\n",
       "      <td>Бостандыкский р-н, Экспериментальная 11</td>\n",
       "      <td>5 000 000〒за всё</td>\n",
       "      <td>Алматы</td>\n",
       "      <td>/a/show/663236077</td>\n",
       "      <td>rent</td>\n",
       "      <td>build</td>\n",
       "      <td>400.0</td>\n",
       "      <td>5000000.0</td>\n",
       "      <td>за всё</td>\n",
       "      <td>https://krisha.kz/a/show/663236077</td>\n",
       "    </tr>\n",
       "    <tr>\n",
       "      <td>3</td>\n",
       "      <td>Здание, площадью 130 м²</td>\n",
       "      <td>р-н Байконур, Ыкылас Дукенулы 19/ — проспект Р...</td>\n",
       "      <td>350 000〒за всё</td>\n",
       "      <td>Нур-Султан (Астана)</td>\n",
       "      <td>/a/show/660498061</td>\n",
       "      <td>rent</td>\n",
       "      <td>build</td>\n",
       "      <td>130.0</td>\n",
       "      <td>350000.0</td>\n",
       "      <td>за всё</td>\n",
       "      <td>https://krisha.kz/a/show/660498061</td>\n",
       "    </tr>\n",
       "    <tr>\n",
       "      <td>4</td>\n",
       "      <td>Здание, площадью 430 м²</td>\n",
       "      <td>Майлина 20/9</td>\n",
       "      <td>4 000〒за м²</td>\n",
       "      <td>Нур-Султан (Астана)</td>\n",
       "      <td>/a/show/663201022</td>\n",
       "      <td>rent</td>\n",
       "      <td>build</td>\n",
       "      <td>430.0</td>\n",
       "      <td>1720000.0</td>\n",
       "      <td>за м²</td>\n",
       "      <td>https://krisha.kz/a/show/663201022</td>\n",
       "    </tr>\n",
       "    <tr>\n",
       "      <td>5</td>\n",
       "      <td>Здание, площадью 208 м²</td>\n",
       "      <td>Ауэзовский р-н, мкр Таугуль-3</td>\n",
       "      <td>1 700〒за м²</td>\n",
       "      <td>Алматы</td>\n",
       "      <td>/a/show/663519068</td>\n",
       "      <td>rent</td>\n",
       "      <td>build</td>\n",
       "      <td>208.0</td>\n",
       "      <td>353600.0</td>\n",
       "      <td>за м²</td>\n",
       "      <td>https://krisha.kz/a/show/663519068</td>\n",
       "    </tr>\n",
       "    <tr>\n",
       "      <td>6</td>\n",
       "      <td>Здание, площадью 275 м²</td>\n",
       "      <td>Ауэзовский р-н, мкр Тастак-1, Немировича-Данче...</td>\n",
       "      <td>600 000〒за всё</td>\n",
       "      <td>Алматы</td>\n",
       "      <td>/a/show/663082978</td>\n",
       "      <td>rent</td>\n",
       "      <td>build</td>\n",
       "      <td>275.0</td>\n",
       "      <td>600000.0</td>\n",
       "      <td>за всё</td>\n",
       "      <td>https://krisha.kz/a/show/663082978</td>\n",
       "    </tr>\n",
       "    <tr>\n",
       "      <td>7</td>\n",
       "      <td>Здание, площадью 810 м²</td>\n",
       "      <td>Байкена Ашимова 141 — Капцевича 171</td>\n",
       "      <td>1 500 000〒за всё</td>\n",
       "      <td>Кокшетау</td>\n",
       "      <td>/a/show/663399197</td>\n",
       "      <td>rent</td>\n",
       "      <td>build</td>\n",
       "      <td>810.0</td>\n",
       "      <td>1500000.0</td>\n",
       "      <td>за всё</td>\n",
       "      <td>https://krisha.kz/a/show/663399197</td>\n",
       "    </tr>\n",
       "    <tr>\n",
       "      <td>8</td>\n",
       "      <td>Здание, площадью 850 м²</td>\n",
       "      <td>Алматы р-н, Мкр Шубар 17/1</td>\n",
       "      <td>2 500 000〒за всё</td>\n",
       "      <td>Нур-Султан (Астана)</td>\n",
       "      <td>/a/show/662491946</td>\n",
       "      <td>rent</td>\n",
       "      <td>build</td>\n",
       "      <td>850.0</td>\n",
       "      <td>2500000.0</td>\n",
       "      <td>за всё</td>\n",
       "      <td>https://krisha.kz/a/show/662491946</td>\n",
       "    </tr>\n",
       "    <tr>\n",
       "      <td>9</td>\n",
       "      <td>Здание, площадью 2300 м²</td>\n",
       "      <td>мкр 12, 12 микрорайон — Бокенбай Батыра</td>\n",
       "      <td>2 500〒за м²</td>\n",
       "      <td>Актобе</td>\n",
       "      <td>/a/show/57442713</td>\n",
       "      <td>rent</td>\n",
       "      <td>build</td>\n",
       "      <td>2300.0</td>\n",
       "      <td>5750000.0</td>\n",
       "      <td>за м²</td>\n",
       "      <td>https://krisha.kz/a/show/57442713</td>\n",
       "    </tr>\n",
       "  </tbody>\n",
       "</table>\n",
       "</div>"
      ],
      "text/plain": [
       "                       Name  \\\n",
       "0  Здание, площадью 2534 м²   \n",
       "1   Здание, площадью 700 м²   \n",
       "2   Здание, площадью 400 м²   \n",
       "3   Здание, площадью 130 м²   \n",
       "4   Здание, площадью 430 м²   \n",
       "5   Здание, площадью 208 м²   \n",
       "6   Здание, площадью 275 м²   \n",
       "7   Здание, площадью 810 м²   \n",
       "8   Здание, площадью 850 м²   \n",
       "9  Здание, площадью 2300 м²   \n",
       "\n",
       "                                             Address         KZT_price  \\\n",
       "0                                Капчагайская трасса  4 750 000〒за всё   \n",
       "1  Турксибский р-н, Бухтарминская — Кульджинскай ...       2 500〒за м²   \n",
       "2            Бостандыкский р-н, Экспериментальная 11  5 000 000〒за всё   \n",
       "3  р-н Байконур, Ыкылас Дукенулы 19/ — проспект Р...    350 000〒за всё   \n",
       "4                                       Майлина 20/9       4 000〒за м²   \n",
       "5                      Ауэзовский р-н, мкр Таугуль-3       1 700〒за м²   \n",
       "6  Ауэзовский р-н, мкр Тастак-1, Немировича-Данче...    600 000〒за всё   \n",
       "7                Байкена Ашимова 141 — Капцевича 171  1 500 000〒за всё   \n",
       "8                         Алматы р-н, Мкр Шубар 17/1  2 500 000〒за всё   \n",
       "9            мкр 12, 12 микрорайон — Бокенбай Батыра       2 500〒за м²   \n",
       "\n",
       "                  City                Url ads_type premises_type  area_m2  \\\n",
       "0             Капчагай  /a/show/660685171     rent         build   2534.0   \n",
       "1               Алматы   /a/show/56894649     rent         build    700.0   \n",
       "2               Алматы  /a/show/663236077     rent         build    400.0   \n",
       "3  Нур-Султан (Астана)  /a/show/660498061     rent         build    130.0   \n",
       "4  Нур-Султан (Астана)  /a/show/663201022     rent         build    430.0   \n",
       "5               Алматы  /a/show/663519068     rent         build    208.0   \n",
       "6               Алматы  /a/show/663082978     rent         build    275.0   \n",
       "7             Кокшетау  /a/show/663399197     rent         build    810.0   \n",
       "8  Нур-Султан (Астана)  /a/show/662491946     rent         build    850.0   \n",
       "9               Актобе   /a/show/57442713     rent         build   2300.0   \n",
       "\n",
       "   KZT_price_norm price_per                                 URL  \n",
       "0       4750000.0    за всё  https://krisha.kz/a/show/660685171  \n",
       "1       1750000.0     за м²   https://krisha.kz/a/show/56894649  \n",
       "2       5000000.0    за всё  https://krisha.kz/a/show/663236077  \n",
       "3        350000.0    за всё  https://krisha.kz/a/show/660498061  \n",
       "4       1720000.0     за м²  https://krisha.kz/a/show/663201022  \n",
       "5        353600.0     за м²  https://krisha.kz/a/show/663519068  \n",
       "6        600000.0    за всё  https://krisha.kz/a/show/663082978  \n",
       "7       1500000.0    за всё  https://krisha.kz/a/show/663399197  \n",
       "8       2500000.0    за всё  https://krisha.kz/a/show/662491946  \n",
       "9       5750000.0     за м²   https://krisha.kz/a/show/57442713  "
      ]
     },
     "execution_count": 44,
     "metadata": {},
     "output_type": "execute_result"
    }
   ],
   "source": [
    "file.head(10)"
   ]
  },
  {
   "cell_type": "code",
   "execution_count": 32,
   "metadata": {},
   "outputs": [],
   "source": [
    "file['ads_type'] = [ads_type]*len(file['Name'])\n",
    "file['premises_type'] = [premises_type]*len(file['Name'])"
   ]
  },
  {
   "cell_type": "code",
   "execution_count": 34,
   "metadata": {},
   "outputs": [],
   "source": [
    "try:\n",
    "    file['area_m2'] = file['Name'].map(lambda x: float(x.split()[2]))\n",
    "except:\n",
    "    file['area_m2_work'] = file['Name'].map(lambda x: x.split())\n",
    "    file['area_m2_work'].unique()"
   ]
  },
  {
   "cell_type": "code",
   "execution_count": 39,
   "metadata": {},
   "outputs": [],
   "source": [
    "try:\n",
    "    file['price_per'] = file['KZT_price'].map(lambda x: x.split('〒')[1])\n",
    "    file['KZT_price_norm'] = file['KZT_price'].map(lambda x: int(x.split('〒')[0].replace(u'\\xa0', u'')))\n",
    "    file.loc[file.price_per == 'за м²', 'KZT_price_norm'] = file['KZT_price_norm']*file['area_m2']\n",
    "except:\n",
    "    file['price_per'] = 'за всё'"
   ]
  },
  {
   "cell_type": "code",
   "execution_count": 43,
   "metadata": {},
   "outputs": [],
   "source": [
    "file['URL'] = file['Url'].map(lambda x: 'https://krisha.kz'+x)"
   ]
  },
  {
   "cell_type": "code",
   "execution_count": null,
   "metadata": {},
   "outputs": [],
   "source": []
  },
  {
   "cell_type": "code",
   "execution_count": 301,
   "metadata": {},
   "outputs": [],
   "source": [
    "file.to_csv(f'5ka_KZ_2/{premises_type}_{ads_type}_2.csv', index=False)"
   ]
  },
  {
   "cell_type": "code",
   "execution_count": null,
   "metadata": {},
   "outputs": [],
   "source": []
  },
  {
   "cell_type": "markdown",
   "metadata": {},
   "source": [
    "DROP BLOCK"
   ]
  },
  {
   "cell_type": "code",
   "execution_count": 199,
   "metadata": {},
   "outputs": [],
   "source": [
    "file = file.drop(['area_m2_work_len'], axis=1)"
   ]
  },
  {
   "cell_type": "code",
   "execution_count": 41,
   "metadata": {},
   "outputs": [],
   "source": [
    "file = file.drop(['price'], axis=1)"
   ]
  },
  {
   "cell_type": "code",
   "execution_count": null,
   "metadata": {},
   "outputs": [],
   "source": [
    "file = file.drop(['Url'], axis=1)"
   ]
  },
  {
   "cell_type": "code",
   "execution_count": null,
   "metadata": {},
   "outputs": [],
   "source": []
  },
  {
   "cell_type": "code",
   "execution_count": null,
   "metadata": {},
   "outputs": [],
   "source": [
    "CONCAT BLOCK"
   ]
  },
  {
   "cell_type": "code",
   "execution_count": 302,
   "metadata": {},
   "outputs": [],
   "source": [
    "build1 = pd.read_csv('5ka_KZ_2/build_rent_2.csv')"
   ]
  },
  {
   "cell_type": "code",
   "execution_count": 303,
   "metadata": {},
   "outputs": [],
   "source": [
    "build2 = pd.read_csv('5ka_KZ_2/build_sale_2.csv')"
   ]
  },
  {
   "cell_type": "code",
   "execution_count": 304,
   "metadata": {},
   "outputs": [],
   "source": [
    "shop1 = pd.read_csv('5ka_KZ_2/shop_sale_2.csv')"
   ]
  },
  {
   "cell_type": "code",
   "execution_count": 305,
   "metadata": {},
   "outputs": [],
   "source": [
    "shop2 = pd.read_csv('5ka_KZ_2/shop_rent_2.csv')"
   ]
  },
  {
   "cell_type": "code",
   "execution_count": 306,
   "metadata": {},
   "outputs": [],
   "source": [
    "prem1 = pd.read_csv('5ka_KZ_2/premises_sale_2.csv')"
   ]
  },
  {
   "cell_type": "code",
   "execution_count": 307,
   "metadata": {},
   "outputs": [],
   "source": [
    "prem2 = pd.read_csv('5ka_KZ_2/premises_rent_2.csv')"
   ]
  },
  {
   "cell_type": "code",
   "execution_count": 308,
   "metadata": {},
   "outputs": [],
   "source": [
    "kz = pd.concat([build1, build2, prem1, prem2, shop1, shop2], ignore_index=True, sort=False)"
   ]
  },
  {
   "cell_type": "code",
   "execution_count": 315,
   "metadata": {},
   "outputs": [],
   "source": [
    "kz.to_excel('5ka_KZ_2/all_kz_ads.xlsx')"
   ]
  },
  {
   "cell_type": "code",
   "execution_count": null,
   "metadata": {},
   "outputs": [],
   "source": []
  }
 ],
 "metadata": {
  "kernelspec": {
   "display_name": "Python 3",
   "language": "python",
   "name": "python3"
  },
  "language_info": {
   "codemirror_mode": {
    "name": "ipython",
    "version": 3
   },
   "file_extension": ".py",
   "mimetype": "text/x-python",
   "name": "python",
   "nbconvert_exporter": "python",
   "pygments_lexer": "ipython3",
   "version": "3.7.4"
  }
 },
 "nbformat": 4,
 "nbformat_minor": 4
}
