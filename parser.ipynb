{
 "cells": [
  {
   "cell_type": "markdown",
   "metadata": {},
   "source": [
    "21/06/2020 Imangalina Maria"
   ]
  },
  {
   "cell_type": "code",
   "execution_count": 1,
   "metadata": {},
   "outputs": [],
   "source": [
    "import requests\n",
    "from bs4 import BeautifulSoup\n",
    "import csv\n",
    "import os\n",
    "import pandas as pd"
   ]
  },
  {
   "cell_type": "code",
   "execution_count": 27,
   "metadata": {},
   "outputs": [],
   "source": [
    "#БОЛЬШИМИ буквами записаны константы - не изменяются весь код\n",
    "HEADERS = {'User-Agent' : 'Mozilla/5.0 (Windows NT 10.0; Win64; x64) AppleWebKit/537.36 (KHTML, like Gecko) Chrome/83.0.4103.106 Safari/537.36', \n",
    "'accept' : '*/*'}\n",
    "FILE = 'shop_rent.csv'"
   ]
  },
  {
   "cell_type": "code",
   "execution_count": 10,
   "metadata": {},
   "outputs": [],
   "source": [
    "def get_html(url, params=None):\n",
    "    r = requests.get(url, headers = HEADERS, params = params)\n",
    "    return r"
   ]
  },
  {
   "cell_type": "code",
   "execution_count": 11,
   "metadata": {},
   "outputs": [],
   "source": [
    "def get_pages_count(html):\n",
    "    soup = BeautifulSoup(html, 'html.parser')\n",
    "    pagination = soup.find_all('a', class_='paginator__btn')\n",
    "    if pagination:\n",
    "        return int(pagination[-2].get_text())\n",
    "    else:\n",
    "        return 1            \n",
    "    \n",
    "    print(pagination)"
   ]
  },
  {
   "cell_type": "code",
   "execution_count": 12,
   "metadata": {},
   "outputs": [],
   "source": [
    "def get_content(html):\n",
    "    soup = BeautifulSoup(html, 'html.parser')\n",
    "    items = soup.find_all('div', class_='a-card__descr')\n",
    "    \n",
    "    ads = []\n",
    "    for item in items:\n",
    "            ads.append({\n",
    "            'title' : item.find('a', class_='a-card__title').get_text(),\n",
    "            'address' : item.find('div', class_='a-card__subtitle').get_text(strip=True),\n",
    "            'price' : item.find('div', class_='a-card__price').get_text(strip=True),\n",
    "            'city' : item.find('div', class_='card-stats__item').get_text(strip=True),\n",
    "            'url' : item.find('a', class_='a-card__title').get('href'),\n",
    "        })\n",
    "    \n",
    "    return ads"
   ]
  },
  {
   "cell_type": "code",
   "execution_count": 13,
   "metadata": {},
   "outputs": [],
   "source": [
    "def save_file(items, path): #items - это объекты в списке ads\n",
    "    with open(path, \"w\", encoding='UTF-8', newline = '') as file: #не нужно потом закрывать файл из-за конструкции with open\n",
    "        writer = csv.writer(file, delimiter=';')\n",
    "        writer.writerow(['Name', 'Address', 'KZT_price', 'City', 'Url'])\n",
    "        for item in items:\n",
    "            writer.writerow([item['title'], item['address'], item['price'], item['city'], item['url']])\n",
    "        "
   ]
  },
  {
   "cell_type": "code",
   "execution_count": 18,
   "metadata": {},
   "outputs": [],
   "source": [
    "def parse():\n",
    "    URL = input('Введите URL: ') #добавляем пробел в конце, чтобы ссылка сразу не открывалась в браузере\n",
    "    URL = URL.strip()\n",
    "    html = get_html(URL)\n",
    "    if html.status_code == 200:\n",
    "        ads = []\n",
    "        pages_count = get_pages_count(html.text)\n",
    "        for page in range(1, pages_count+1):\n",
    "            print(f'Парсинг страницы {page} из {pages_count}...')\n",
    "            html = get_html(URL, params={'page' : page})\n",
    "            ads.extend(get_content(html.text))\n",
    "        save_file(ads, FILE) #указываем не путь, а файл, созданный в начале\n",
    "        print(f'Получено {len(ads)} объявлений')\n",
    "        \n",
    "    else:\n",
    "        print('Error')"
   ]
  },
  {
   "cell_type": "code",
   "execution_count": 28,
   "metadata": {},
   "outputs": [
    {
     "name": "stdin",
     "output_type": "stream",
     "text": [
      "Введите URL:  https://krisha.kz/arenda/magazina/\n"
     ]
    },
    {
     "name": "stdout",
     "output_type": "stream",
     "text": [
      "Парсинг страницы 1 из 46...\n",
      "Парсинг страницы 2 из 46...\n",
      "Парсинг страницы 3 из 46...\n",
      "Парсинг страницы 4 из 46...\n",
      "Парсинг страницы 5 из 46...\n",
      "Парсинг страницы 6 из 46...\n",
      "Парсинг страницы 7 из 46...\n",
      "Парсинг страницы 8 из 46...\n",
      "Парсинг страницы 9 из 46...\n",
      "Парсинг страницы 10 из 46...\n",
      "Парсинг страницы 11 из 46...\n",
      "Парсинг страницы 12 из 46...\n",
      "Парсинг страницы 13 из 46...\n",
      "Парсинг страницы 14 из 46...\n",
      "Парсинг страницы 15 из 46...\n",
      "Парсинг страницы 16 из 46...\n",
      "Парсинг страницы 17 из 46...\n",
      "Парсинг страницы 18 из 46...\n",
      "Парсинг страницы 19 из 46...\n",
      "Парсинг страницы 20 из 46...\n",
      "Парсинг страницы 21 из 46...\n",
      "Парсинг страницы 22 из 46...\n",
      "Парсинг страницы 23 из 46...\n",
      "Парсинг страницы 24 из 46...\n",
      "Парсинг страницы 25 из 46...\n",
      "Парсинг страницы 26 из 46...\n",
      "Парсинг страницы 27 из 46...\n",
      "Парсинг страницы 28 из 46...\n",
      "Парсинг страницы 29 из 46...\n",
      "Парсинг страницы 30 из 46...\n",
      "Парсинг страницы 31 из 46...\n",
      "Парсинг страницы 32 из 46...\n",
      "Парсинг страницы 33 из 46...\n",
      "Парсинг страницы 34 из 46...\n",
      "Парсинг страницы 35 из 46...\n",
      "Парсинг страницы 36 из 46...\n",
      "Парсинг страницы 37 из 46...\n",
      "Парсинг страницы 38 из 46...\n",
      "Парсинг страницы 39 из 46...\n",
      "Парсинг страницы 40 из 46...\n",
      "Парсинг страницы 41 из 46...\n",
      "Парсинг страницы 42 из 46...\n",
      "Парсинг страницы 43 из 46...\n",
      "Парсинг страницы 44 из 46...\n",
      "Парсинг страницы 45 из 46...\n",
      "Парсинг страницы 46 из 46...\n",
      "Получено 922 объявлений\n"
     ]
    }
   ],
   "source": [
    "parse()"
   ]
  },
  {
   "cell_type": "code",
   "execution_count": null,
   "metadata": {},
   "outputs": [],
   "source": []
  },
  {
   "cell_type": "code",
   "execution_count": null,
   "metadata": {},
   "outputs": [],
   "source": []
  },
  {
   "cell_type": "code",
   "execution_count": null,
   "metadata": {},
   "outputs": [],
   "source": []
  },
  {
   "cell_type": "code",
   "execution_count": null,
   "metadata": {},
   "outputs": [],
   "source": []
  }
 ],
 "metadata": {
  "kernelspec": {
   "display_name": "Python 3",
   "language": "python",
   "name": "python3"
  },
  "language_info": {
   "codemirror_mode": {
    "name": "ipython",
    "version": 3
   },
   "file_extension": ".py",
   "mimetype": "text/x-python",
   "name": "python",
   "nbconvert_exporter": "python",
   "pygments_lexer": "ipython3",
   "version": "3.7.4"
  }
 },
 "nbformat": 4,
 "nbformat_minor": 4
}
